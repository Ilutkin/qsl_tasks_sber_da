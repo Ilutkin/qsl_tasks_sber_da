{
 "cells": [
  {
   "cell_type": "markdown",
   "metadata": {
    "id": "pDrecLU-4QjS"
   },
   "source": [
    "# Практика"
   ]
  },
  {
   "cell_type": "markdown",
   "metadata": {
    "id": "gUvTNDlMaV-a"
   },
   "source": [
    "## Определение вероятности. События\n",
    "\n",
    "Требуется сгенерировать необходимые выборки и произвести по ним расчеты"
   ]
  },
  {
   "cell_type": "markdown",
   "metadata": {
    "id": "5V70InEBTgup"
   },
   "source": [
    "### Задача 1\n",
    "Брошено две монеты. Найти вероятность того, что монеты выпали разными сторонами"
   ]
  },
  {
   "cell_type": "code",
   "execution_count": 2,
   "metadata": {},
   "outputs": [],
   "source": [
    "import pandas as pd\n",
    "import numpy as np\n",
    "import matplotlib.pyplot as plt\n",
    "import scipy.stats as sts\n",
    "%matplotlib inline"
   ]
  },
  {
   "cell_type": "code",
   "execution_count": 19,
   "metadata": {},
   "outputs": [
    {
     "name": "stdout",
     "output_type": "stream",
     "text": [
      "Вероятность того, что монеты выпали разными сторонами 0.5\n"
     ]
    }
   ],
   "source": [
    "# n — число благоприятных элементарных исходов n = 2\n",
    "n = 2\n",
    "# N — это суммарное число элементарных исходов N = 4 ['OP','PO','OO','PP']\n",
    "all_N = 4\n",
    "# P(A) = n/N\n",
    "P_A = n/all_N\n",
    "print('Вероятность того, что монеты выпали разными сторонами', P_A)"
   ]
  },
  {
   "cell_type": "code",
   "execution_count": 22,
   "metadata": {
    "id": "88Iw-SL3jYQV"
   },
   "outputs": [
    {
     "data": {
      "text/plain": [
       "array(['OP', 'OP', 'OP', ..., 'PO', 'OP', 'OP'], dtype='<U2')"
      ]
     },
     "execution_count": 22,
     "metadata": {},
     "output_type": "execute_result"
    }
   ],
   "source": [
    "N = 10000\n",
    "sample = np.random.choice(['OP','PO','OO','PP'], N)\n",
    "sample"
   ]
  },
  {
   "cell_type": "code",
   "execution_count": 23,
   "metadata": {},
   "outputs": [
    {
     "name": "stdout",
     "output_type": "stream",
     "text": [
      "[2460 2500 2562 2478]\n",
      "[0.246  0.25   0.2562 0.2478]\n",
      "['OO' 'OP' 'PO' 'PP']\n",
      "1.0\n"
     ]
    }
   ],
   "source": [
    "# оценим функцию вероятности частотами\n",
    "unique_value, counts = np.unique(sample, return_counts=True)\n",
    "v = counts / N\n",
    "print(counts)\n",
    "print(counts / N)\n",
    "print(unique_value)\n",
    "print (np.sum(counts / N))"
   ]
  },
  {
   "cell_type": "code",
   "execution_count": 24,
   "metadata": {},
   "outputs": [
    {
     "data": {
      "text/html": [
       "<div>\n",
       "<style scoped>\n",
       "    .dataframe tbody tr th:only-of-type {\n",
       "        vertical-align: middle;\n",
       "    }\n",
       "\n",
       "    .dataframe tbody tr th {\n",
       "        vertical-align: top;\n",
       "    }\n",
       "\n",
       "    .dataframe thead th {\n",
       "        text-align: right;\n",
       "    }\n",
       "</style>\n",
       "<table border=\"1\" class=\"dataframe\">\n",
       "  <thead>\n",
       "    <tr style=\"text-align: right;\">\n",
       "      <th></th>\n",
       "      <th>Исход</th>\n",
       "      <th>Вероятность</th>\n",
       "    </tr>\n",
       "  </thead>\n",
       "  <tbody>\n",
       "    <tr>\n",
       "      <th>0</th>\n",
       "      <td>OO</td>\n",
       "      <td>0.2460</td>\n",
       "    </tr>\n",
       "    <tr>\n",
       "      <th>1</th>\n",
       "      <td>OP</td>\n",
       "      <td>0.2500</td>\n",
       "    </tr>\n",
       "    <tr>\n",
       "      <th>2</th>\n",
       "      <td>PO</td>\n",
       "      <td>0.2562</td>\n",
       "    </tr>\n",
       "    <tr>\n",
       "      <th>3</th>\n",
       "      <td>PP</td>\n",
       "      <td>0.2478</td>\n",
       "    </tr>\n",
       "  </tbody>\n",
       "</table>\n",
       "</div>"
      ],
      "text/plain": [
       "  Исход  Вероятность\n",
       "0    OO       0.2460\n",
       "1    OP       0.2500\n",
       "2    PO       0.2562\n",
       "3    PP       0.2478"
      ]
     },
     "execution_count": 24,
     "metadata": {},
     "output_type": "execute_result"
    }
   ],
   "source": [
    "df = pd.DataFrame(list(zip(unique_value, v)), columns =['Исход', 'Вероятность'])\n",
    "df"
   ]
  },
  {
   "cell_type": "code",
   "execution_count": 26,
   "metadata": {},
   "outputs": [],
   "source": [
    "A_dic = {'OO': 'false_choice', 'PP': 'false_choice', 'OP': 'true_choice', 'PO': 'true_choice'}"
   ]
  },
  {
   "cell_type": "code",
   "execution_count": 27,
   "metadata": {},
   "outputs": [
    {
     "name": "stdout",
     "output_type": "stream",
     "text": [
      "Вероятность того, что монеты выпали разными сторонами (практическая): 0.5062\n",
      "Вероятность того, что монеты выпали разными сторонами (теоретическая): 0.5\n"
     ]
    }
   ],
   "source": [
    "a = df.replace(regex=A_dic).copy()\n",
    "print('Вероятность того, что монеты выпали разными сторонами (практическая):', pd.pivot_table(a, index=[\"Исход\"], values=[\"Вероятность\"], aggfunc=np.sum)[\"Вероятность\"].true_choice)\n",
    "print('Вероятность того, что монеты выпали разными сторонами (теоретическая):', P_A)"
   ]
  },
  {
   "cell_type": "markdown",
   "metadata": {
    "id": "t0XOMos2Tl0e"
   },
   "source": [
    "### Задача 2\n",
    "Брошено три монеты. Описать множество всех элементарных событий. Найти вероятности следующих событий:\n",
    "\n",
    "\n",
    "1.   A = {не выпало ни одного герба}\n",
    "2.   B = {выпало четное число гербов}\n",
    "3.   C = {на третьей монете выпал герб}\n"
   ]
  },
  {
   "cell_type": "code",
   "execution_count": 29,
   "metadata": {},
   "outputs": [
    {
     "name": "stdout",
     "output_type": "stream",
     "text": [
      "Вероятность, что не выпало ни одного герба: 0.125\n",
      "Вероятность, что выпало четное число гербов: 0.375\n",
      "Вероятность, что на третьей монете выпал герб: 0.5\n"
     ]
    }
   ],
   "source": [
    "# A = {не выпало ни одного герба} nA — число благоприятных элементарных исходов = 1 \n",
    "nA = 1\n",
    "# B = {выпало четное число гербов} nB — число благоприятных элементарных исходов = 3\n",
    "nB = 3\n",
    "# C = {на третьей монете выпал герб} nC — число благоприятных элементарных исходов = 4\n",
    "nC = 4\n",
    "# N — это суммарное число элементарных исходов N = 8 ['OOO','OOP','OPO','OPP','POO','POP','PPO','PPP']\n",
    "all_N = 8\n",
    "# P(A) = n/N\n",
    "P_A = nA/all_N\n",
    "print('Вероятность, что не выпало ни одного герба:',P_A)\n",
    "P_B = nB/all_N\n",
    "print('Вероятность, что выпало четное число гербов:',P_B)\n",
    "P_C = nC/all_N\n",
    "print('Вероятность, что на третьей монете выпал герб:',P_C)"
   ]
  },
  {
   "cell_type": "code",
   "execution_count": 30,
   "metadata": {
    "id": "o7NjAE9uUo-L"
   },
   "outputs": [
    {
     "data": {
      "text/plain": [
       "array(['OPO', 'POO', 'OPO', ..., 'POO', 'OPO', 'OOP'], dtype='<U3')"
      ]
     },
     "execution_count": 30,
     "metadata": {},
     "output_type": "execute_result"
    }
   ],
   "source": [
    "N = 10000\n",
    "sample = np.random.choice(['OOO','OOP','OPO','OPP','POO','POP','PPO','PPP'], N)\n",
    "sample"
   ]
  },
  {
   "cell_type": "code",
   "execution_count": 31,
   "metadata": {},
   "outputs": [
    {
     "name": "stdout",
     "output_type": "stream",
     "text": [
      "[1351 1262 1217 1271 1249 1224 1233 1193]\n",
      "[0.1351 0.1262 0.1217 0.1271 0.1249 0.1224 0.1233 0.1193]\n",
      "['OOO' 'OOP' 'OPO' 'OPP' 'POO' 'POP' 'PPO' 'PPP']\n",
      "1.0\n"
     ]
    }
   ],
   "source": [
    "# оценим функцию вероятности частотами\n",
    "unique_value, counts = np.unique(sample, return_counts=True)\n",
    "v = counts / N\n",
    "print(counts)\n",
    "print(counts / N)\n",
    "print(unique_value)\n",
    "print (np.sum(counts / N))"
   ]
  },
  {
   "cell_type": "code",
   "execution_count": 32,
   "metadata": {},
   "outputs": [
    {
     "data": {
      "text/html": [
       "<div>\n",
       "<style scoped>\n",
       "    .dataframe tbody tr th:only-of-type {\n",
       "        vertical-align: middle;\n",
       "    }\n",
       "\n",
       "    .dataframe tbody tr th {\n",
       "        vertical-align: top;\n",
       "    }\n",
       "\n",
       "    .dataframe thead th {\n",
       "        text-align: right;\n",
       "    }\n",
       "</style>\n",
       "<table border=\"1\" class=\"dataframe\">\n",
       "  <thead>\n",
       "    <tr style=\"text-align: right;\">\n",
       "      <th></th>\n",
       "      <th>Исход</th>\n",
       "      <th>Вероятность</th>\n",
       "    </tr>\n",
       "  </thead>\n",
       "  <tbody>\n",
       "    <tr>\n",
       "      <th>0</th>\n",
       "      <td>OOO</td>\n",
       "      <td>0.1351</td>\n",
       "    </tr>\n",
       "    <tr>\n",
       "      <th>1</th>\n",
       "      <td>OOP</td>\n",
       "      <td>0.1262</td>\n",
       "    </tr>\n",
       "    <tr>\n",
       "      <th>2</th>\n",
       "      <td>OPO</td>\n",
       "      <td>0.1217</td>\n",
       "    </tr>\n",
       "    <tr>\n",
       "      <th>3</th>\n",
       "      <td>OPP</td>\n",
       "      <td>0.1271</td>\n",
       "    </tr>\n",
       "    <tr>\n",
       "      <th>4</th>\n",
       "      <td>POO</td>\n",
       "      <td>0.1249</td>\n",
       "    </tr>\n",
       "    <tr>\n",
       "      <th>5</th>\n",
       "      <td>POP</td>\n",
       "      <td>0.1224</td>\n",
       "    </tr>\n",
       "    <tr>\n",
       "      <th>6</th>\n",
       "      <td>PPO</td>\n",
       "      <td>0.1233</td>\n",
       "    </tr>\n",
       "    <tr>\n",
       "      <th>7</th>\n",
       "      <td>PPP</td>\n",
       "      <td>0.1193</td>\n",
       "    </tr>\n",
       "  </tbody>\n",
       "</table>\n",
       "</div>"
      ],
      "text/plain": [
       "  Исход  Вероятность\n",
       "0   OOO       0.1351\n",
       "1   OOP       0.1262\n",
       "2   OPO       0.1217\n",
       "3   OPP       0.1271\n",
       "4   POO       0.1249\n",
       "5   POP       0.1224\n",
       "6   PPO       0.1233\n",
       "7   PPP       0.1193"
      ]
     },
     "execution_count": 32,
     "metadata": {},
     "output_type": "execute_result"
    }
   ],
   "source": [
    "df = pd.DataFrame(list(zip(unique_value, v)), columns =['Исход', 'Вероятность'])\n",
    "df"
   ]
  },
  {
   "cell_type": "code",
   "execution_count": 33,
   "metadata": {},
   "outputs": [],
   "source": [
    "# A = {не выпало ни одного герба} (орла)\n",
    "A_dic = {'OOO': 'false_choice','OOP': 'false_choice','OPO': 'false_choice','OPP': 'false_choice',\n",
    "         'POO': 'false_choice','POP': 'false_choice','PPO': 'false_choice','PPP': 'true_choice'}\n",
    "# B = {выпало четное число гербов}\n",
    "B_dic = {'OOO': 'false_choice','OOP': 'true_choice','OPO': 'true_choice','OPP': 'false_choice',\n",
    "         'POO': 'true_choice','POP': 'false_choice','PPO': 'false_choice','PPP': 'false_choice'}\n",
    "# C = {на третьей монете выпал герб}\n",
    "C_dic = {'OOO': 'true_choice','OOP': 'false_choice','OPO': 'true_choice','OPP': 'false_choice',\n",
    "         'POO': 'true_choice','POP': 'false_choice','PPO': 'true_choice','PPP': 'false_choice'}"
   ]
  },
  {
   "cell_type": "code",
   "execution_count": 34,
   "metadata": {},
   "outputs": [
    {
     "name": "stdout",
     "output_type": "stream",
     "text": [
      "Вероятность, что не выпало ни одного герба (практическая): 0.1193\n",
      "Вероятность, что не выпало ни одного герба (теоретическая): 0.125\n"
     ]
    }
   ],
   "source": [
    "res_a = df.replace(regex=A_dic).copy()\n",
    "print('Вероятность, что не выпало ни одного герба (практическая):',pd.pivot_table(res_a, index=[\"Исход\"], values=[\"Вероятность\"], aggfunc=np.sum)[\"Вероятность\"].true_choice)\n",
    "print('Вероятность, что не выпало ни одного герба (теоретическая):',P_A)"
   ]
  },
  {
   "cell_type": "code",
   "execution_count": 35,
   "metadata": {},
   "outputs": [
    {
     "name": "stdout",
     "output_type": "stream",
     "text": [
      "Вероятность, что выпало четное число гербов (практическая): 0.3728\n",
      "Вероятность, что выпало четное число гербов (теоретическая): 0.375\n"
     ]
    }
   ],
   "source": [
    "res_b = df.replace(regex=B_dic).copy()\n",
    "print('Вероятность, что выпало четное число гербов (практическая):',pd.pivot_table(res_b, index=[\"Исход\"], values=[\"Вероятность\"], aggfunc=np.sum)[\"Вероятность\"].true_choice)\n",
    "print('Вероятность, что выпало четное число гербов (теоретическая):',P_B)"
   ]
  },
  {
   "cell_type": "code",
   "execution_count": 36,
   "metadata": {},
   "outputs": [
    {
     "name": "stdout",
     "output_type": "stream",
     "text": [
      "Вероятность, что на третьей монете выпал герб (практическая): 0.505\n",
      "Вероятность, что на третьей монете выпал герб (теоретическая): 0.5\n"
     ]
    }
   ],
   "source": [
    "res_c = df.replace(regex=C_dic).copy()\n",
    "print('Вероятность, что на третьей монете выпал герб (практическая):',pd.pivot_table(res_c, index=[\"Исход\"], values=[\"Вероятность\"], aggfunc=np.sum)[\"Вероятность\"].true_choice)\n",
    "print('Вероятность, что на третьей монете выпал герб (теоретическая):',P_C)"
   ]
  },
  {
   "cell_type": "markdown",
   "metadata": {},
   "source": [
    "Предлагается также решить задачи: \n",
    "\n",
    "### Задача 3\n",
    "Из двух претендентов E и L на ответственную должность три члена комиссии должны отобрать одного. Каждый член комиссии должен указать либо одного достойного, либо забраковать обоих. Претендент считается выбранным, если он был признана достойным хотя бы двумя членами комиссии.\n",
    "Найти вероятность событий:\n",
    "\n",
    "A = {рекомендован L}, B = {рекомендован E}\n"
   ]
  },
  {
   "cell_type": "code",
   "execution_count": 37,
   "metadata": {},
   "outputs": [
    {
     "name": "stdout",
     "output_type": "stream",
     "text": [
      "Вероятность, что рекомендован L: 0.25925925925925924\n",
      "Вероятность, что рекомендован E: 0.25925925925925924\n"
     ]
    }
   ],
   "source": [
    "# A = {рекомендован L} nA — число благоприятных элементарных исходов = 7 \n",
    "nA = 7\n",
    "# B = {рекомендован E} nB — число благоприятных элементарных исходов = 7\n",
    "nB = 7\n",
    "# N — это суммарное число элементарных исходов N = 27\n",
    "all_N = 27\n",
    "# P(A) = n/N\n",
    "P_A = nA/all_N\n",
    "print('Вероятность, что рекомендован L:',P_A)\n",
    "P_B = nB/all_N\n",
    "print('Вероятность, что рекомендован E:',P_B)"
   ]
  },
  {
   "cell_type": "code",
   "execution_count": 38,
   "metadata": {},
   "outputs": [
    {
     "data": {
      "text/plain": [
       "array(['ELO', 'EOO', 'LEO', ..., 'ELL', 'OEL', 'LLE'], dtype='<U3')"
      ]
     },
     "execution_count": 38,
     "metadata": {},
     "output_type": "execute_result"
    }
   ],
   "source": [
    "N = 10000\n",
    "sample = np.random.choice(['LLL','LLO','LLE','LOL','LEL','OLL','ELL',\n",
    "                            'EEE','EEO','EEL','EOE','ELE','OEE','LEE',\n",
    "                             'OOE','OEL','OLE','EOO','LOO','OEO','OLO','LEO','ELO','EOL','LOE','OOO','OOL'], N)\n",
    "sample"
   ]
  },
  {
   "cell_type": "code",
   "execution_count": 39,
   "metadata": {},
   "outputs": [
    {
     "name": "stdout",
     "output_type": "stream",
     "text": [
      "[403 367 346 387 356 385 389 412 337 361 394 386 387 369 377 325 342 368\n",
      " 371 375 359 368 378 373 381 351 353]\n",
      "[0.0403 0.0367 0.0346 0.0387 0.0356 0.0385 0.0389 0.0412 0.0337 0.0361\n",
      " 0.0394 0.0386 0.0387 0.0369 0.0377 0.0325 0.0342 0.0368 0.0371 0.0375\n",
      " 0.0359 0.0368 0.0378 0.0373 0.0381 0.0351 0.0353]\n",
      "['EEE' 'EEL' 'EEO' 'ELE' 'ELL' 'ELO' 'EOE' 'EOL' 'EOO' 'LEE' 'LEL' 'LEO'\n",
      " 'LLE' 'LLL' 'LLO' 'LOE' 'LOL' 'LOO' 'OEE' 'OEL' 'OEO' 'OLE' 'OLL' 'OLO'\n",
      " 'OOE' 'OOL' 'OOO']\n",
      "1.0\n"
     ]
    }
   ],
   "source": [
    "# оценим функцию вероятности частотами\n",
    "unique_value, counts = np.unique(sample, return_counts=True)\n",
    "v = counts / N\n",
    "print(counts)\n",
    "print(counts / N)\n",
    "print(unique_value)\n",
    "print (np.sum(counts / N))"
   ]
  },
  {
   "cell_type": "code",
   "execution_count": 43,
   "metadata": {},
   "outputs": [
    {
     "data": {
      "text/plain": [
       "<bound method NDFrame.sample of    Исход  Вероятность\n",
       "0    EEE       0.0403\n",
       "1    EEL       0.0367\n",
       "2    EEO       0.0346\n",
       "3    ELE       0.0387\n",
       "4    ELL       0.0356\n",
       "5    ELO       0.0385\n",
       "6    EOE       0.0389\n",
       "7    EOL       0.0412\n",
       "8    EOO       0.0337\n",
       "9    LEE       0.0361\n",
       "10   LEL       0.0394\n",
       "11   LEO       0.0386\n",
       "12   LLE       0.0387\n",
       "13   LLL       0.0369\n",
       "14   LLO       0.0377\n",
       "15   LOE       0.0325\n",
       "16   LOL       0.0342\n",
       "17   LOO       0.0368\n",
       "18   OEE       0.0371\n",
       "19   OEL       0.0375\n",
       "20   OEO       0.0359\n",
       "21   OLE       0.0368\n",
       "22   OLL       0.0378\n",
       "23   OLO       0.0373\n",
       "24   OOE       0.0381\n",
       "25   OOL       0.0351\n",
       "26   OOO       0.0353>"
      ]
     },
     "execution_count": 43,
     "metadata": {},
     "output_type": "execute_result"
    }
   ],
   "source": [
    "df = pd.DataFrame(list(zip(unique_value, v)), columns =['Исход', 'Вероятность'])\n",
    "df.sample"
   ]
  },
  {
   "cell_type": "code",
   "execution_count": 44,
   "metadata": {},
   "outputs": [],
   "source": [
    "# A описание всех исходов\n",
    "A_dic = {'LLL':'L','LLO':'L','LLE':'L','LOL':'L','LEL':'L','OLL':'L','ELL':'L',\n",
    "        'EEE':'E','EEO':'E','EEL':'E','EOE':'E','ELE':'E','OEE':'E','LEE':'E',\n",
    "         'OOE':'O','OEL':'O','OLE':'O','EOO':'O','LOO':'O','OEO':'O','OLO':'O','LEO':'O','ELO':'O','EOL':'O','LOE':'O','OOO':'O','OOL':'O'}\n"
   ]
  },
  {
   "cell_type": "code",
   "execution_count": 45,
   "metadata": {},
   "outputs": [
    {
     "data": {
      "text/html": [
       "<div>\n",
       "<style scoped>\n",
       "    .dataframe tbody tr th:only-of-type {\n",
       "        vertical-align: middle;\n",
       "    }\n",
       "\n",
       "    .dataframe tbody tr th {\n",
       "        vertical-align: top;\n",
       "    }\n",
       "\n",
       "    .dataframe thead th {\n",
       "        text-align: right;\n",
       "    }\n",
       "</style>\n",
       "<table border=\"1\" class=\"dataframe\">\n",
       "  <thead>\n",
       "    <tr style=\"text-align: right;\">\n",
       "      <th></th>\n",
       "      <th>Вероятность</th>\n",
       "    </tr>\n",
       "    <tr>\n",
       "      <th>Исход</th>\n",
       "      <th></th>\n",
       "    </tr>\n",
       "  </thead>\n",
       "  <tbody>\n",
       "    <tr>\n",
       "      <th>E</th>\n",
       "      <td>0.2624</td>\n",
       "    </tr>\n",
       "    <tr>\n",
       "      <th>L</th>\n",
       "      <td>0.2603</td>\n",
       "    </tr>\n",
       "    <tr>\n",
       "      <th>O</th>\n",
       "      <td>0.4773</td>\n",
       "    </tr>\n",
       "  </tbody>\n",
       "</table>\n",
       "</div>"
      ],
      "text/plain": [
       "       Вероятность\n",
       "Исход             \n",
       "E           0.2624\n",
       "L           0.2603\n",
       "O           0.4773"
      ]
     },
     "execution_count": 45,
     "metadata": {},
     "output_type": "execute_result"
    }
   ],
   "source": [
    "res_a = df.replace(regex=A_dic).copy()\n",
    "pd.pivot_table(res_a, index=[\"Исход\"], values=[\"Вероятность\"], aggfunc=np.sum)"
   ]
  },
  {
   "cell_type": "markdown",
   "metadata": {
    "id": "peM38mVfYa5B"
   },
   "source": [
    "### Задача 4\n",
    "Брошено две игральных кости. Описать множество элементарных событий. Найти вероятности событий:\n",
    "\n",
    "A = {вышло две \"шестерки\"}\n",
    "\n",
    "B = {сумма выпавших очков не меньше 11}\n",
    "\n",
    "C = {не выпала ни одна \"шестерка\"}"
   ]
  },
  {
   "cell_type": "code",
   "execution_count": 46,
   "metadata": {},
   "outputs": [
    {
     "name": "stdout",
     "output_type": "stream",
     "text": [
      "Вероятность, что вышло две \"шестерки\": 0.027777777777777776\n",
      "Вероятность, что сумма выпавших очков не меньше 11: 0.08333333333333333\n",
      "Вероятность, что не выпала ни одна \"шестерка\": 0.08333333333333333\n"
     ]
    }
   ],
   "source": [
    "# A = {вышло две \"шестерки\"} nA — число благоприятных элементарных исходов = 1 \n",
    "nA = 1\n",
    "# B = {сумма выпавших очков не меньше 11} nB — число благоприятных элементарных исходов = 3\n",
    "nB = 3\n",
    "# C = {не выпала ни одна \"шестерка\"} nC — число благоприятных элементарных исходов = 25\n",
    "nC = 25\n",
    "# N — это суммарное число элементарных исходов N = 36\n",
    "all_N = 36\n",
    "# P(A) = n/N\n",
    "P_A = nA/all_N\n",
    "print('Вероятность, что вышло две \"шестерки\":',P_A)\n",
    "P_B = nB/all_N\n",
    "print('Вероятность, что сумма выпавших очков не меньше 11:',P_B)\n",
    "P_C = nB/all_N\n",
    "print('Вероятность, что не выпала ни одна \"шестерка\":',P_C)"
   ]
  },
  {
   "cell_type": "code",
   "execution_count": 54,
   "metadata": {},
   "outputs": [
    {
     "data": {
      "text/plain": [
       "array(['41', '52', '25', ..., '46', '66', '25'], dtype='<U2')"
      ]
     },
     "execution_count": 54,
     "metadata": {},
     "output_type": "execute_result"
    }
   ],
   "source": [
    "N = 10000\n",
    "sample = np.random.choice(['11','12','13','14','15','16',\n",
    "                           '21','22','23','24','25','26',\n",
    "                           '31','32','33','34','35','36',\n",
    "                           '41','42','43','44','45','46',\n",
    "                           '51','52','53','54','55','56',\n",
    "                           '61','62','63','64','65','66'], N)\n",
    "sample"
   ]
  },
  {
   "cell_type": "code",
   "execution_count": 55,
   "metadata": {},
   "outputs": [
    {
     "name": "stdout",
     "output_type": "stream",
     "text": [
      "[294 286 315 282 272 282 277 273 271 270 282 264 258 277 272 288 263 273\n",
      " 274 291 290 277 255 283 263 268 253 254 255 286 289 294 323 277 306 263]\n",
      "[0.0294 0.0286 0.0315 0.0282 0.0272 0.0282 0.0277 0.0273 0.0271 0.027\n",
      " 0.0282 0.0264 0.0258 0.0277 0.0272 0.0288 0.0263 0.0273 0.0274 0.0291\n",
      " 0.029  0.0277 0.0255 0.0283 0.0263 0.0268 0.0253 0.0254 0.0255 0.0286\n",
      " 0.0289 0.0294 0.0323 0.0277 0.0306 0.0263]\n",
      "['11' '12' '13' '14' '15' '16' '21' '22' '23' '24' '25' '26' '31' '32'\n",
      " '33' '34' '35' '36' '41' '42' '43' '44' '45' '46' '51' '52' '53' '54'\n",
      " '55' '56' '61' '62' '63' '64' '65' '66']\n",
      "0.9999999999999999\n"
     ]
    }
   ],
   "source": [
    "# оценим функцию вероятности частотами\n",
    "unique_value, counts = np.unique(sample, return_counts=True)\n",
    "v = counts / N\n",
    "print(counts)\n",
    "print(counts / N)\n",
    "print(unique_value)\n",
    "print (np.sum(counts / N))"
   ]
  },
  {
   "cell_type": "code",
   "execution_count": 56,
   "metadata": {},
   "outputs": [
    {
     "data": {
      "text/html": [
       "<div>\n",
       "<style scoped>\n",
       "    .dataframe tbody tr th:only-of-type {\n",
       "        vertical-align: middle;\n",
       "    }\n",
       "\n",
       "    .dataframe tbody tr th {\n",
       "        vertical-align: top;\n",
       "    }\n",
       "\n",
       "    .dataframe thead th {\n",
       "        text-align: right;\n",
       "    }\n",
       "</style>\n",
       "<table border=\"1\" class=\"dataframe\">\n",
       "  <thead>\n",
       "    <tr style=\"text-align: right;\">\n",
       "      <th></th>\n",
       "      <th>Исход</th>\n",
       "      <th>Вероятность</th>\n",
       "    </tr>\n",
       "  </thead>\n",
       "  <tbody>\n",
       "    <tr>\n",
       "      <th>31</th>\n",
       "      <td>62</td>\n",
       "      <td>0.0294</td>\n",
       "    </tr>\n",
       "    <tr>\n",
       "      <th>32</th>\n",
       "      <td>63</td>\n",
       "      <td>0.0323</td>\n",
       "    </tr>\n",
       "    <tr>\n",
       "      <th>33</th>\n",
       "      <td>64</td>\n",
       "      <td>0.0277</td>\n",
       "    </tr>\n",
       "    <tr>\n",
       "      <th>34</th>\n",
       "      <td>65</td>\n",
       "      <td>0.0306</td>\n",
       "    </tr>\n",
       "    <tr>\n",
       "      <th>35</th>\n",
       "      <td>66</td>\n",
       "      <td>0.0263</td>\n",
       "    </tr>\n",
       "  </tbody>\n",
       "</table>\n",
       "</div>"
      ],
      "text/plain": [
       "   Исход  Вероятность\n",
       "31    62       0.0294\n",
       "32    63       0.0323\n",
       "33    64       0.0277\n",
       "34    65       0.0306\n",
       "35    66       0.0263"
      ]
     },
     "execution_count": 56,
     "metadata": {},
     "output_type": "execute_result"
    }
   ],
   "source": [
    "df = pd.DataFrame(list(zip(unique_value, v)), columns =['Исход', 'Вероятность'])\n",
    "df.tail(5)"
   ]
  },
  {
   "cell_type": "code",
   "execution_count": 50,
   "metadata": {},
   "outputs": [],
   "source": [
    "# A = {вышло две \"шестерки\"}\n",
    "A_dic = {'11': 'false_choice','12': 'false_choice','13': 'false_choice','14': 'false_choice','15': 'false_choice','16': 'false_choice',\n",
    "        '21': 'false_choice','22': 'false_choice','23': 'false_choice','24': 'false_choice','25': 'false_choice','26': 'false_choice',\n",
    "        '31': 'false_choice','32': 'false_choice','33': 'false_choice','34': 'false_choice','35': 'false_choice','36': 'false_choice',\n",
    "        '41': 'false_choice','42': 'false_choice','43': 'false_choice','44': 'false_choice','45': 'false_choice','46': 'false_choice',\n",
    "        '51': 'false_choice','52': 'false_choice','53': 'false_choice','54': 'false_choice','55': 'false_choice','56': 'false_choice',\n",
    "        '61': 'false_choice','62': 'false_choice','63': 'false_choice','64': 'false_choice','65': 'false_choice','66': 'true_choice'}\n",
    "\n",
    "# B = {сумма выпавших очков не меньше 11}\n",
    "B_dic = {'11': 'false_choice','12': 'false_choice','13': 'false_choice','14': 'false_choice','15': 'false_choice','16': 'false_choice',\n",
    "        '21': 'false_choice','22': 'false_choice','23': 'false_choice','24': 'false_choice','25': 'false_choice','26': 'false_choice',\n",
    "        '31': 'false_choice','32': 'false_choice','33': 'false_choice','34': 'false_choice','35': 'false_choice','36': 'false_choice',\n",
    "        '41': 'false_choice','42': 'false_choice','43': 'false_choice','44': 'false_choice','45': 'false_choice','46': 'false_choice',\n",
    "        '51': 'false_choice','52': 'false_choice','53': 'false_choice','54': 'false_choice','55': 'false_choice','56': 'true_choice',\n",
    "        '61': 'false_choice','62': 'false_choice','63': 'false_choice','64': 'false_choice','65': 'true_choice','66': 'true_choice'}\n",
    "\n",
    "# C = {не выпала ни одна \"шестерка\"}\n",
    "C_dic = {'11': 'true_choice','12': 'true_choice','13': 'true_choice','14': 'true_choice','15': 'true_choice','16': 'false_choice',\n",
    "        '21': 'true_choice','22': 'true_choice','23': 'true_choice','24': 'true_choice','25': 'true_choice','26': 'false_choice',\n",
    "        '31': 'true_choice','32': 'true_choice','33': 'true_choice','34': 'true_choice','35': 'true_choice','36': 'false_choice',\n",
    "        '41': 'true_choice','42': 'true_choice','43': 'true_choice','44': 'true_choice','45': 'true_choice','46': 'false_choice',\n",
    "        '51': 'true_choice','52': 'true_choice','53': 'true_choice','54': 'true_choice','55': 'true_choice','56': 'false_choice',\n",
    "        '61': 'false_choice','62': 'false_choice','63': 'false_choice','64': 'false_choice','65': 'false_choice','66': 'false_choice'}\n"
   ]
  },
  {
   "cell_type": "code",
   "execution_count": 57,
   "metadata": {},
   "outputs": [
    {
     "name": "stdout",
     "output_type": "stream",
     "text": [
      "Вероятность, что вышло две \"шестерки\" (практическая): 0.0263\n",
      "Вероятность, что вышло две \"шестерки\" (теоретическая): 0.027777777777777776\n"
     ]
    }
   ],
   "source": [
    "res_a = df.replace(regex=A_dic).copy()\n",
    "print('Вероятность, что вышло две \"шестерки\" (практическая):',pd.pivot_table(res_a, index=[\"Исход\"], values=[\"Вероятность\"], aggfunc=np.sum)[\"Вероятность\"].true_choice)\n",
    "print('Вероятность, что вышло две \"шестерки\" (теоретическая):',P_A)"
   ]
  },
  {
   "cell_type": "code",
   "execution_count": 58,
   "metadata": {},
   "outputs": [
    {
     "name": "stdout",
     "output_type": "stream",
     "text": [
      "Вероятность, что сумма выпавших очков не меньше 11 (практическая): 0.08549999999999999\n",
      "Вероятность, что сумма выпавших очков не меньше 11 (теоретическая): 0.08333333333333333\n"
     ]
    }
   ],
   "source": [
    "res_b = df.replace(regex=B_dic).copy()\n",
    "print('Вероятность, что сумма выпавших очков не меньше 11 (практическая):',pd.pivot_table(res_b, index=[\"Исход\"], values=[\"Вероятность\"], aggfunc=np.sum)[\"Вероятность\"].true_choice)\n",
    "print('Вероятность, что сумма выпавших очков не меньше 11 (теоретическая):',P_B)"
   ]
  },
  {
   "cell_type": "code",
   "execution_count": 59,
   "metadata": {},
   "outputs": [
    {
     "name": "stdout",
     "output_type": "stream",
     "text": [
      "Вероятность, что не выпала ни одна \"шестерка\" (практическая): 0.6859999999999999\n",
      "Вероятность, что не выпала ни одна \"шестерка\" (теоретическая): 0.08333333333333333\n"
     ]
    }
   ],
   "source": [
    "res_c = df.replace(regex=C_dic).copy()\n",
    "print('Вероятность, что не выпала ни одна \"шестерка\" (практическая):',pd.pivot_table(res_c, index=[\"Исход\"], values=[\"Вероятность\"], aggfunc=np.sum)[\"Вероятность\"].true_choice)\n",
    "print('Вероятность, что не выпала ни одна \"шестерка\" (теоретическая):',P_C)"
   ]
  },
  {
   "cell_type": "markdown",
   "metadata": {
    "id": "f-Bi0p8haclB"
   },
   "source": [
    "## Вероятность суммы событий"
   ]
  },
  {
   "cell_type": "markdown",
   "metadata": {
    "id": "g7A7QlvGTnwZ"
   },
   "source": [
    "### Задача 5\n",
    "Брошены две игральные кости. Найти вероятность события D = {выпала хотя бы одна шестёрка}\n"
   ]
  },
  {
   "cell_type": "code",
   "execution_count": 69,
   "metadata": {
    "id": "vjtTJN-kUp9D"
   },
   "outputs": [
    {
     "name": "stdout",
     "output_type": "stream",
     "text": [
      "Bероятность, что выпала хотя бы одна шестёрка: 0.3055555555555555\n"
     ]
    }
   ],
   "source": [
    "# P(C) = P(A+B) = P(A) + P(B) - P(AB)  \n",
    "# Число событий N = 36\n",
    "# Число благоприятных элементарных исходов события A = 6\n",
    "# Число благоприятных элементарных исходов события B = 6\n",
    "# Число благоприятных элементарных исходов события AB = 1\n",
    "N, A, B, AB = 36, 6, 6, 1\n",
    "P_C = A/N + B/N - AB/N\n",
    "print('Bероятность, что выпала хотя бы одна шестёрка:',P_C)"
   ]
  },
  {
   "cell_type": "code",
   "execution_count": 70,
   "metadata": {},
   "outputs": [
    {
     "data": {
      "text/plain": [
       "array(['25', '22', '53', ..., '56', '53', '43'], dtype='<U2')"
      ]
     },
     "execution_count": 70,
     "metadata": {},
     "output_type": "execute_result"
    }
   ],
   "source": [
    "N = 10000\n",
    "sample = np.random.choice(['11','12','13','14','15','16',\n",
    "                           '21','22','23','24','25','26',\n",
    "                           '31','32','33','34','35','36',\n",
    "                           '41','42','43','44','45','46',\n",
    "                           '51','52','53','54','55','56',\n",
    "                           '61','62','63','64','65','66'], N)\n",
    "sample"
   ]
  },
  {
   "cell_type": "code",
   "execution_count": 71,
   "metadata": {},
   "outputs": [
    {
     "name": "stdout",
     "output_type": "stream",
     "text": [
      "[261 299 278 291 274 273 275 284 261 283 279 260 293 279 281 253 264 274\n",
      " 277 278 261 285 298 273 268 282 276 285 274 292 289 289 273 276 292 270]\n",
      "[0.0261 0.0299 0.0278 0.0291 0.0274 0.0273 0.0275 0.0284 0.0261 0.0283\n",
      " 0.0279 0.026  0.0293 0.0279 0.0281 0.0253 0.0264 0.0274 0.0277 0.0278\n",
      " 0.0261 0.0285 0.0298 0.0273 0.0268 0.0282 0.0276 0.0285 0.0274 0.0292\n",
      " 0.0289 0.0289 0.0273 0.0276 0.0292 0.027 ]\n",
      "['11' '12' '13' '14' '15' '16' '21' '22' '23' '24' '25' '26' '31' '32'\n",
      " '33' '34' '35' '36' '41' '42' '43' '44' '45' '46' '51' '52' '53' '54'\n",
      " '55' '56' '61' '62' '63' '64' '65' '66']\n",
      "1.0\n"
     ]
    }
   ],
   "source": [
    "unique_value, counts = np.unique(sample, return_counts=True)\n",
    "v = counts / N\n",
    "print(counts)\n",
    "print(counts / N)\n",
    "print(unique_value)\n",
    "print (np.sum(counts / N))"
   ]
  },
  {
   "cell_type": "code",
   "execution_count": 72,
   "metadata": {},
   "outputs": [
    {
     "data": {
      "text/html": [
       "<div>\n",
       "<style scoped>\n",
       "    .dataframe tbody tr th:only-of-type {\n",
       "        vertical-align: middle;\n",
       "    }\n",
       "\n",
       "    .dataframe tbody tr th {\n",
       "        vertical-align: top;\n",
       "    }\n",
       "\n",
       "    .dataframe thead th {\n",
       "        text-align: right;\n",
       "    }\n",
       "</style>\n",
       "<table border=\"1\" class=\"dataframe\">\n",
       "  <thead>\n",
       "    <tr style=\"text-align: right;\">\n",
       "      <th></th>\n",
       "      <th>Исход</th>\n",
       "      <th>Вероятность</th>\n",
       "    </tr>\n",
       "  </thead>\n",
       "  <tbody>\n",
       "    <tr>\n",
       "      <th>31</th>\n",
       "      <td>62</td>\n",
       "      <td>0.0289</td>\n",
       "    </tr>\n",
       "    <tr>\n",
       "      <th>32</th>\n",
       "      <td>63</td>\n",
       "      <td>0.0273</td>\n",
       "    </tr>\n",
       "    <tr>\n",
       "      <th>33</th>\n",
       "      <td>64</td>\n",
       "      <td>0.0276</td>\n",
       "    </tr>\n",
       "    <tr>\n",
       "      <th>34</th>\n",
       "      <td>65</td>\n",
       "      <td>0.0292</td>\n",
       "    </tr>\n",
       "    <tr>\n",
       "      <th>35</th>\n",
       "      <td>66</td>\n",
       "      <td>0.0270</td>\n",
       "    </tr>\n",
       "  </tbody>\n",
       "</table>\n",
       "</div>"
      ],
      "text/plain": [
       "   Исход  Вероятность\n",
       "31    62       0.0289\n",
       "32    63       0.0273\n",
       "33    64       0.0276\n",
       "34    65       0.0292\n",
       "35    66       0.0270"
      ]
     },
     "execution_count": 72,
     "metadata": {},
     "output_type": "execute_result"
    }
   ],
   "source": [
    "df = pd.DataFrame(list(zip(unique_value, v)), columns =['Исход', 'Вероятность'])\n",
    "df.tail(5)"
   ]
  },
  {
   "cell_type": "code",
   "execution_count": 73,
   "metadata": {},
   "outputs": [],
   "source": [
    "# D = {выпала хотя бы одна шестёрка}\n",
    "D_dic = {'11': 'false_choice','12': 'false_choice','13': 'false_choice','14': 'false_choice','15': 'false_choice','16': 'true_choice',\n",
    "        '21': 'false_choice','22': 'false_choice','23': 'false_choice','24': 'false_choice','25': 'false_choice','26': 'true_choice',\n",
    "        '31': 'false_choice','32': 'false_choice','33': 'false_choice','34': 'false_choice','35': 'false_choice','36': 'true_choice',\n",
    "        '41': 'false_choice','42': 'false_choice','43': 'false_choice','44': 'false_choice','45': 'false_choice','46': 'true_choice',\n",
    "        '51': 'false_choice','52': 'false_choice','53': 'false_choice','54': 'false_choice','55': 'false_choice','56': 'true_choice',\n",
    "        '61': 'true_choice','62': 'true_choice','63': 'true_choice','64': 'true_choice','65': 'true_choice','66': 'true_choice'}\n"
   ]
  },
  {
   "cell_type": "code",
   "execution_count": 89,
   "metadata": {},
   "outputs": [
    {
     "name": "stdout",
     "output_type": "stream",
     "text": [
      "Bероятность, что выпала хотя бы одна шестёрка (практическая): 0.3061\n",
      "Bероятность, что выпала хотя бы одна шестёрка (теоретическая): 0.3055555555555555\n"
     ]
    }
   ],
   "source": [
    "res_d = df.replace(regex=D_dic).copy()\n",
    "print('Bероятность, что выпала хотя бы одна шестёрка (практическая):',pd.pivot_table(res_d, index=[\"Исход\"], values=[\"Вероятность\"], aggfunc=np.sum)['Вероятность'].true_choice)\n",
    "print('Bероятность, что выпала хотя бы одна шестёрка (теоретическая):',P_C)"
   ]
  },
  {
   "cell_type": "markdown",
   "metadata": {
    "id": "R1bYSzQQbC6I"
   },
   "source": [
    "Предлагается также решить задачи: \n",
    "\n",
    "### Задача 6\n",
    "В телефонном номере три последние цифры стерлись. Считая, что все возможные значения стершихся цифр равновероятны, найти вероятность событий:\n",
    "\n",
    "A = {Стерлись различные цифры},\n",
    "\n",
    "B = {Стерлись одинаковые цифры},\n",
    "\n",
    "C = {Среди стершихся цифр хотя бы две совпадают},\n",
    "\n",
    "D = {Среди стершихся цифр хотя бы две различны}\n"
   ]
  },
  {
   "cell_type": "code",
   "execution_count": 90,
   "metadata": {},
   "outputs": [
    {
     "name": "stdout",
     "output_type": "stream",
     "text": [
      "Стерлись различные цифры: 0.72\n",
      "Стерлись одинаковые цифры: 0.01\n",
      "Среди стершихся цифр хотя бы две совпадают: 0.27\n",
      "Среди стершихся цифр хотя бы две различны: 0.99\n"
     ]
    }
   ],
   "source": [
    "# A = {Стерлись различные цифры}, nA — число благоприятных элементарных исходов = 720 \n",
    "nA = 720\n",
    "# B = {Стерлись одинаковые цифры}, nB — число благоприятных элементарных исходов = 10\n",
    "nB = 10\n",
    "# C = {Среди стершихся цифр хотя бы две совпадают}, nC — число благоприятных элементарных исходов = 270\n",
    "nC = 270\n",
    "# D = {Среди стершихся цифр хотя бы две различны} nD — число благоприятных элементарных исходов = 990\n",
    "nD = 990\n",
    "# N — это суммарное число элементарных исходов N = 1000\n",
    "all_N = 1000\n",
    "# P(A) = n/N\n",
    "P_A = nA/all_N\n",
    "print('Стерлись различные цифры:',P_A)\n",
    "P_B = nB/all_N\n",
    "print('Стерлись одинаковые цифры:',P_B)\n",
    "P_C = nC/all_N\n",
    "print('Среди стершихся цифр хотя бы две совпадают:',P_C)\n",
    "P_D = nD/all_N\n",
    "print('Среди стершихся цифр хотя бы две различны:',P_D)"
   ]
  },
  {
   "cell_type": "code",
   "execution_count": 94,
   "metadata": {},
   "outputs": [
    {
     "data": {
      "text/html": [
       "<div>\n",
       "<style scoped>\n",
       "    .dataframe tbody tr th:only-of-type {\n",
       "        vertical-align: middle;\n",
       "    }\n",
       "\n",
       "    .dataframe tbody tr th {\n",
       "        vertical-align: top;\n",
       "    }\n",
       "\n",
       "    .dataframe thead th {\n",
       "        text-align: right;\n",
       "    }\n",
       "</style>\n",
       "<table border=\"1\" class=\"dataframe\">\n",
       "  <thead>\n",
       "    <tr style=\"text-align: right;\">\n",
       "      <th></th>\n",
       "      <th>Num_1</th>\n",
       "      <th>Num_2</th>\n",
       "      <th>Num_3</th>\n",
       "    </tr>\n",
       "  </thead>\n",
       "  <tbody>\n",
       "    <tr>\n",
       "      <th>0</th>\n",
       "      <td>5</td>\n",
       "      <td>3</td>\n",
       "      <td>2</td>\n",
       "    </tr>\n",
       "    <tr>\n",
       "      <th>1</th>\n",
       "      <td>8</td>\n",
       "      <td>4</td>\n",
       "      <td>6</td>\n",
       "    </tr>\n",
       "    <tr>\n",
       "      <th>2</th>\n",
       "      <td>6</td>\n",
       "      <td>1</td>\n",
       "      <td>8</td>\n",
       "    </tr>\n",
       "    <tr>\n",
       "      <th>3</th>\n",
       "      <td>4</td>\n",
       "      <td>1</td>\n",
       "      <td>7</td>\n",
       "    </tr>\n",
       "    <tr>\n",
       "      <th>4</th>\n",
       "      <td>6</td>\n",
       "      <td>0</td>\n",
       "      <td>5</td>\n",
       "    </tr>\n",
       "    <tr>\n",
       "      <th>...</th>\n",
       "      <td>...</td>\n",
       "      <td>...</td>\n",
       "      <td>...</td>\n",
       "    </tr>\n",
       "    <tr>\n",
       "      <th>9995</th>\n",
       "      <td>3</td>\n",
       "      <td>2</td>\n",
       "      <td>3</td>\n",
       "    </tr>\n",
       "    <tr>\n",
       "      <th>9996</th>\n",
       "      <td>5</td>\n",
       "      <td>2</td>\n",
       "      <td>2</td>\n",
       "    </tr>\n",
       "    <tr>\n",
       "      <th>9997</th>\n",
       "      <td>0</td>\n",
       "      <td>0</td>\n",
       "      <td>8</td>\n",
       "    </tr>\n",
       "    <tr>\n",
       "      <th>9998</th>\n",
       "      <td>2</td>\n",
       "      <td>4</td>\n",
       "      <td>6</td>\n",
       "    </tr>\n",
       "    <tr>\n",
       "      <th>9999</th>\n",
       "      <td>5</td>\n",
       "      <td>1</td>\n",
       "      <td>1</td>\n",
       "    </tr>\n",
       "  </tbody>\n",
       "</table>\n",
       "<p>10000 rows × 3 columns</p>\n",
       "</div>"
      ],
      "text/plain": [
       "      Num_1  Num_2  Num_3\n",
       "0         5      3      2\n",
       "1         8      4      6\n",
       "2         6      1      8\n",
       "3         4      1      7\n",
       "4         6      0      5\n",
       "...     ...    ...    ...\n",
       "9995      3      2      3\n",
       "9996      5      2      2\n",
       "9997      0      0      8\n",
       "9998      2      4      6\n",
       "9999      5      1      1\n",
       "\n",
       "[10000 rows x 3 columns]"
      ]
     },
     "execution_count": 94,
     "metadata": {},
     "output_type": "execute_result"
    }
   ],
   "source": [
    "N = 10000\n",
    "sample1 = np.random.choice([1,2,3,4,5,6,7,8,9,0], N)\n",
    "sample1\n",
    "sample2 = np.random.choice([1,2,3,4,5,6,7,8,9,0], N)\n",
    "sample2\n",
    "sample3 = np.random.choice([1,2,3,4,5,6,7,8,9,0], N)\n",
    "sample3\n",
    "df=pd.DataFrame({'Num_1': sample1, 'Num_2': sample2, 'Num_3': sample3}, columns=['Num_1', 'Num_2', 'Num_3'])\n",
    "df"
   ]
  },
  {
   "cell_type": "code",
   "execution_count": 95,
   "metadata": {},
   "outputs": [
    {
     "name": "stdout",
     "output_type": "stream",
     "text": [
      "Вероятность, что стерлись различные цифры (практическая): 0.8061\n",
      "Вероятность, что стерлись различные цифры (теоретическая): 0.72\n"
     ]
    }
   ],
   "source": [
    "n=0\n",
    "for i in df.index:\n",
    "    if df.Num_1[i] != df.Num_2[i] != df.Num_3[i]:\n",
    "        n += 1\n",
    "print('Вероятность, что стерлись различные цифры (практическая):',n/N)\n",
    "print('Вероятность, что стерлись различные цифры (теоретическая):',P_A)"
   ]
  },
  {
   "cell_type": "code",
   "execution_count": 96,
   "metadata": {},
   "outputs": [
    {
     "name": "stdout",
     "output_type": "stream",
     "text": [
      "Вероятность, что стерлись одинаковые цифры (практическая): 0.0091\n",
      "Вероятность, что стерлись одинаковые цифры (теоретическая): 0.01\n"
     ]
    }
   ],
   "source": [
    "n=0\n",
    "for i in df.index:\n",
    "    if df.Num_1[i] == df.Num_2[i] == df.Num_3[i]:\n",
    "        n += 1\n",
    "print('Вероятность, что стерлись одинаковые цифры (практическая):',n/N)\n",
    "print('Вероятность, что стерлись одинаковые цифры (теоретическая):',P_B)"
   ]
  },
  {
   "cell_type": "code",
   "execution_count": 97,
   "metadata": {},
   "outputs": [
    {
     "name": "stdout",
     "output_type": "stream",
     "text": [
      "Вероятность, что среди стершихся цифр хотя бы две совпадают (практическая): 0.2714\n",
      "Вероятность, что среди стершихся цифр хотя бы две совпадают (теоретическая): 0.27\n"
     ]
    }
   ],
   "source": [
    "n=0\n",
    "for i in df.index:\n",
    "    if (df.Num_1[i] == df.Num_2[i] and df.Num_2[i] != df.Num_3[i]) or (df.Num_1[i] == df.Num_3[i] and df.Num_2[i] != df.Num_3[i]) or (df.Num_2[i] == df.Num_3[i] and df.Num_1[i] != df.Num_3[i]):\n",
    "        n += 1\n",
    "print('Вероятность, что среди стершихся цифр хотя бы две совпадают (практическая):',n/N)\n",
    "print('Вероятность, что среди стершихся цифр хотя бы две совпадают (теоретическая):',P_C)"
   ]
  },
  {
   "cell_type": "code",
   "execution_count": 98,
   "metadata": {},
   "outputs": [
    {
     "name": "stdout",
     "output_type": "stream",
     "text": [
      "Вероятность, что среди стершихся цифр хотя бы две различны (практическая): 0.9909\n",
      "Вероятность, что среди стершихся цифр хотя бы две различны (теоретическая): 0.99\n"
     ]
    }
   ],
   "source": [
    "n=0\n",
    "for i in df.index:\n",
    "    if df.Num_1[i] != df.Num_2[i] or df.Num_1[i] != df.Num_3[i] or df.Num_2[i] != df.Num_3[i]:\n",
    "        n += 1\n",
    "print('Вероятность, что среди стершихся цифр хотя бы две различны (практическая):',n/N)\n",
    "print('Вероятность, что среди стершихся цифр хотя бы две различны (теоретическая):',P_D)"
   ]
  },
  {
   "cell_type": "markdown",
   "metadata": {
    "id": "RnugkR8BalK_"
   },
   "source": [
    "## Случайные величины"
   ]
  },
  {
   "cell_type": "markdown",
   "metadata": {
    "id": "yLoZDZ17UVsp"
   },
   "source": [
    "### Задача 7\n",
    "В лотерее имеется 10 билетов, из которых один выигрышный. Размер выигрыша 10 ден. ед.; стоимость билета 1 ден ед. Найти закон распределения случайной величины X, равной чистому выигрышу участника лотереи, который вытаскивает билет первым."
   ]
  },
  {
   "cell_type": "code",
   "execution_count": null,
   "metadata": {
    "id": "oNk432sKUqzT"
   },
   "outputs": [],
   "source": []
  },
  {
   "cell_type": "markdown",
   "metadata": {
    "id": "U-NK9liSbpvb"
   },
   "source": [
    "Предлагается также решить задачу: \n",
    "\n",
    "### Задача 8\n",
    "Брошены две игральные кости. Найти закон распределения случайной величины $X$, равной сумме выпавших очков. Найти вероятности событий ${X <= 4}$, ${X > 4}$"
   ]
  },
  {
   "cell_type": "code",
   "execution_count": 175,
   "metadata": {},
   "outputs": [],
   "source": [
    "import numpy as np\n",
    "import scipy.stats as sts"
   ]
  },
  {
   "cell_type": "code",
   "execution_count": 176,
   "metadata": {},
   "outputs": [
    {
     "data": {
      "text/html": [
       "<div>\n",
       "<style scoped>\n",
       "    .dataframe tbody tr th:only-of-type {\n",
       "        vertical-align: middle;\n",
       "    }\n",
       "\n",
       "    .dataframe tbody tr th {\n",
       "        vertical-align: top;\n",
       "    }\n",
       "\n",
       "    .dataframe thead th {\n",
       "        text-align: right;\n",
       "    }\n",
       "</style>\n",
       "<table border=\"1\" class=\"dataframe\">\n",
       "  <thead>\n",
       "    <tr style=\"text-align: right;\">\n",
       "      <th></th>\n",
       "      <th>Cube_1</th>\n",
       "      <th>Cube_2</th>\n",
       "      <th>Summa</th>\n",
       "    </tr>\n",
       "  </thead>\n",
       "  <tbody>\n",
       "    <tr>\n",
       "      <th>0</th>\n",
       "      <td>4</td>\n",
       "      <td>4</td>\n",
       "      <td>8</td>\n",
       "    </tr>\n",
       "    <tr>\n",
       "      <th>1</th>\n",
       "      <td>4</td>\n",
       "      <td>3</td>\n",
       "      <td>7</td>\n",
       "    </tr>\n",
       "    <tr>\n",
       "      <th>2</th>\n",
       "      <td>2</td>\n",
       "      <td>6</td>\n",
       "      <td>8</td>\n",
       "    </tr>\n",
       "    <tr>\n",
       "      <th>3</th>\n",
       "      <td>1</td>\n",
       "      <td>6</td>\n",
       "      <td>7</td>\n",
       "    </tr>\n",
       "    <tr>\n",
       "      <th>4</th>\n",
       "      <td>5</td>\n",
       "      <td>5</td>\n",
       "      <td>10</td>\n",
       "    </tr>\n",
       "    <tr>\n",
       "      <th>...</th>\n",
       "      <td>...</td>\n",
       "      <td>...</td>\n",
       "      <td>...</td>\n",
       "    </tr>\n",
       "    <tr>\n",
       "      <th>9995</th>\n",
       "      <td>5</td>\n",
       "      <td>1</td>\n",
       "      <td>6</td>\n",
       "    </tr>\n",
       "    <tr>\n",
       "      <th>9996</th>\n",
       "      <td>3</td>\n",
       "      <td>4</td>\n",
       "      <td>7</td>\n",
       "    </tr>\n",
       "    <tr>\n",
       "      <th>9997</th>\n",
       "      <td>4</td>\n",
       "      <td>5</td>\n",
       "      <td>9</td>\n",
       "    </tr>\n",
       "    <tr>\n",
       "      <th>9998</th>\n",
       "      <td>6</td>\n",
       "      <td>3</td>\n",
       "      <td>9</td>\n",
       "    </tr>\n",
       "    <tr>\n",
       "      <th>9999</th>\n",
       "      <td>4</td>\n",
       "      <td>1</td>\n",
       "      <td>5</td>\n",
       "    </tr>\n",
       "  </tbody>\n",
       "</table>\n",
       "<p>10000 rows × 3 columns</p>\n",
       "</div>"
      ],
      "text/plain": [
       "      Cube_1  Cube_2  Summa\n",
       "0          4       4      8\n",
       "1          4       3      7\n",
       "2          2       6      8\n",
       "3          1       6      7\n",
       "4          5       5     10\n",
       "...      ...     ...    ...\n",
       "9995       5       1      6\n",
       "9996       3       4      7\n",
       "9997       4       5      9\n",
       "9998       6       3      9\n",
       "9999       4       1      5\n",
       "\n",
       "[10000 rows x 3 columns]"
      ]
     },
     "execution_count": 176,
     "metadata": {},
     "output_type": "execute_result"
    }
   ],
   "source": [
    "N = 10000\n",
    "sample1 = np.random.choice([1,2,3,4,5,6], N)\n",
    "sample1\n",
    "sample2 = np.random.choice([1,2,3,4,5,6], N)\n",
    "sample2\n",
    "df=pd.DataFrame({'Cube_1': sample1, 'Cube_2': sample2}, columns=['Cube_1', 'Cube_2'])\n",
    "df['Summa']=df['Cube_1']+df['Cube_2']\n",
    "df"
   ]
  },
  {
   "cell_type": "code",
   "execution_count": 191,
   "metadata": {},
   "outputs": [
    {
     "data": {
      "text/html": [
       "<div>\n",
       "<style scoped>\n",
       "    .dataframe tbody tr th:only-of-type {\n",
       "        vertical-align: middle;\n",
       "    }\n",
       "\n",
       "    .dataframe tbody tr th {\n",
       "        vertical-align: top;\n",
       "    }\n",
       "\n",
       "    .dataframe thead tr th {\n",
       "        text-align: left;\n",
       "    }\n",
       "\n",
       "    .dataframe thead tr:last-of-type th {\n",
       "        text-align: right;\n",
       "    }\n",
       "</style>\n",
       "<table border=\"1\" class=\"dataframe\">\n",
       "  <thead>\n",
       "    <tr>\n",
       "      <th></th>\n",
       "      <th colspan=\"2\" halign=\"left\">len</th>\n",
       "    </tr>\n",
       "    <tr>\n",
       "      <th></th>\n",
       "      <th>Cube_1</th>\n",
       "      <th>Cube_2</th>\n",
       "    </tr>\n",
       "    <tr>\n",
       "      <th>Summa</th>\n",
       "      <th></th>\n",
       "      <th></th>\n",
       "    </tr>\n",
       "  </thead>\n",
       "  <tbody>\n",
       "    <tr>\n",
       "      <th>2</th>\n",
       "      <td>290</td>\n",
       "      <td>290</td>\n",
       "    </tr>\n",
       "    <tr>\n",
       "      <th>3</th>\n",
       "      <td>569</td>\n",
       "      <td>569</td>\n",
       "    </tr>\n",
       "    <tr>\n",
       "      <th>4</th>\n",
       "      <td>819</td>\n",
       "      <td>819</td>\n",
       "    </tr>\n",
       "    <tr>\n",
       "      <th>5</th>\n",
       "      <td>1122</td>\n",
       "      <td>1122</td>\n",
       "    </tr>\n",
       "    <tr>\n",
       "      <th>6</th>\n",
       "      <td>1316</td>\n",
       "      <td>1316</td>\n",
       "    </tr>\n",
       "    <tr>\n",
       "      <th>7</th>\n",
       "      <td>1652</td>\n",
       "      <td>1652</td>\n",
       "    </tr>\n",
       "    <tr>\n",
       "      <th>8</th>\n",
       "      <td>1423</td>\n",
       "      <td>1423</td>\n",
       "    </tr>\n",
       "    <tr>\n",
       "      <th>9</th>\n",
       "      <td>1125</td>\n",
       "      <td>1125</td>\n",
       "    </tr>\n",
       "    <tr>\n",
       "      <th>10</th>\n",
       "      <td>839</td>\n",
       "      <td>839</td>\n",
       "    </tr>\n",
       "    <tr>\n",
       "      <th>11</th>\n",
       "      <td>548</td>\n",
       "      <td>548</td>\n",
       "    </tr>\n",
       "    <tr>\n",
       "      <th>12</th>\n",
       "      <td>297</td>\n",
       "      <td>297</td>\n",
       "    </tr>\n",
       "  </tbody>\n",
       "</table>\n",
       "</div>"
      ],
      "text/plain": [
       "         len       \n",
       "      Cube_1 Cube_2\n",
       "Summa              \n",
       "2        290    290\n",
       "3        569    569\n",
       "4        819    819\n",
       "5       1122   1122\n",
       "6       1316   1316\n",
       "7       1652   1652\n",
       "8       1423   1423\n",
       "9       1125   1125\n",
       "10       839    839\n",
       "11       548    548\n",
       "12       297    297"
      ]
     },
     "execution_count": 191,
     "metadata": {},
     "output_type": "execute_result"
    }
   ],
   "source": [
    "pt = pd.pivot_table(df, index=[\"Summa\"], aggfunc=[len])\n",
    "pt"
   ]
  },
  {
   "cell_type": "code",
   "execution_count": 198,
   "metadata": {},
   "outputs": [
    {
     "data": {
      "text/plain": [
       "[]"
      ]
     },
     "execution_count": 198,
     "metadata": {},
     "output_type": "execute_result"
    },
    {
     "data": {
      "image/png": "[encoded data removed]",
      "text/plain": [
       "<Figure size 432x288 with 1 Axes>"
      ]
     },
     "metadata": {
      "needs_background": "light"
     },
     "output_type": "display_data"
    }
   ],
   "source": [
    "plt.plot(pt.index, pt['len'])\n",
    "plt.ylabel(\"$Количество выпадений$\")\n",
    "plt.xlabel(\"$Сумма очков$\")\n",
    "plt.plot()"
   ]
  },
  {
   "cell_type": "code",
   "execution_count": null,
   "metadata": {},
   "outputs": [],
   "source": []
  },
  {
   "cell_type": "markdown",
   "metadata": {
    "id": "shgW4D83awjK"
   },
   "source": [
    "## Условные вероятности"
   ]
  },
  {
   "cell_type": "markdown",
   "metadata": {
    "id": "Fbu1RFZwWZrk"
   },
   "source": [
    "### Задача 9\n",
    "Из колоды (36 карт) вынимают последовательно без возвращения две карты. Найти вероятность того, что первой картой была шестерка, а второй — семерка. Найти условную вероятность того же события при условии, что обе карты бубновой масти.\n"
   ]
  },
  {
   "cell_type": "code",
   "execution_count": null,
   "metadata": {
    "id": "037o56awW9-E"
   },
   "outputs": [],
   "source": []
  },
  {
   "cell_type": "markdown",
   "metadata": {
    "id": "hNVxtaz5c57b"
   },
   "source": [
    "Предлагается также решить задачу: \n",
    "\n",
    "### Задача 10\n",
    "Из урны, содержащей два белых и три черных шара, последовательно извлекают два шара; вынутые шары не возвращаются. Если первый шар оказался черным, то перед вторым извлечением в урну добавляют белый шар. В противном случае состав оставшихся шаров не меняют. Найти вероятности событий:\n",
    "\n",
    "$A$ = {извлечены два белых шара},\n",
    "\n",
    "$B$ = {извлечены два черных шара}\n",
    "\n",
    "Указание. Пусть событие $C_1$ = {первый шар белый}, событие $C_2$ = {второй шар белый}. Тогда $A = C_1C_2$, $B = \\overline C_1 \\overline C_2$ "
   ]
  },
  {
   "cell_type": "code",
   "execution_count": null,
   "metadata": {
    "id": "WSLnhk2sdBt_"
   },
   "outputs": [],
   "source": []
  }
 ],
 "metadata": {
  "colab": {
   "collapsed_sections": [],
   "name": "Практика к занятию 11.ipynb",
   "provenance": []
  },
  "kernelspec": {
   "display_name": "Python 3 (ipykernel)",
   "language": "python",
   "name": "python3"
  },
  "language_info": {
   "codemirror_mode": {
    "name": "ipython",
    "version": 3
   },
   "file_extension": ".py",
   "mimetype": "text/x-python",
   "name": "python",
   "nbconvert_exporter": "python",
   "pygments_lexer": "ipython3",
   "version": "3.9.7"
  }
 },
 "nbformat": 4,
 "nbformat_minor": 1
}
